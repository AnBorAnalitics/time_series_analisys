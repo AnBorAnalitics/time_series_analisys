{
  "nbformat": 4,
  "nbformat_minor": 0,
  "metadata": {
    "colab": {
      "provenance": []
    },
    "kernelspec": {
      "name": "python3",
      "display_name": "Python 3"
    },
    "language_info": {
      "name": "python"
    }
  },
  "cells": [
    {
      "cell_type": "code",
      "execution_count": 1,
      "metadata": {
        "id": "-WW_ihSS2yV5"
      },
      "outputs": [],
      "source": [
        "import numpy as np\n",
        "import pandas as pd"
      ]
    },
    {
      "cell_type": "markdown",
      "source": [
        "# Data"
      ],
      "metadata": {
        "id": "Yghl7OfVRXvC"
      }
    },
    {
      "cell_type": "markdown",
      "source": [
        "CO2 Concentration Data\n",
        "\n",
        "Target Variable:\n",
        "- co2: Measured concentration of CO₂ (in parts per million, ppm) at time t.\n",
        "\n",
        "Observed Regressors:\n",
        "- people_t: The number of people present in the room at time t.\n",
        "- door_t: Binary variable indicating the status of the door at time t.\n",
        "  - 1 = door is open\n",
        "  - 0 = door is closed\n",
        "- window_t: Binary variable indicating the status of the window at time t.\n",
        "  - 1 = window is open\n",
        "  - 0 = window is closed\n",
        "\n",
        "Description:\n",
        "This dataset contains information on CO₂ concentration levels (ppm) within a room,\n",
        "based on the number of people present and the status of the door and window at each recorded time t."
      ],
      "metadata": {
        "id": "oWBYEHRsXHvl"
      }
    },
    {
      "cell_type": "code",
      "source": [
        "data = pd.read_csv('data8.csv', sep=';')"
      ],
      "metadata": {
        "id": "9pTrJiLT5LY2"
      },
      "execution_count": 2,
      "outputs": []
    },
    {
      "cell_type": "code",
      "source": [
        "data.info()"
      ],
      "metadata": {
        "colab": {
          "base_uri": "https://localhost:8080/"
        },
        "id": "kF_v0hg05UsP",
        "outputId": "e40531ae-0952-48fa-c350-20f4b952eea7"
      },
      "execution_count": 3,
      "outputs": [
        {
          "output_type": "stream",
          "name": "stdout",
          "text": [
            "<class 'pandas.core.frame.DataFrame'>\n",
            "RangeIndex: 1000 entries, 0 to 999\n",
            "Data columns (total 5 columns):\n",
            " #   Column  Non-Null Count  Dtype \n",
            "---  ------  --------------  ----- \n",
            " 0   time    1000 non-null   object\n",
            " 1   co2     1000 non-null   object\n",
            " 2   people  1000 non-null   int64 \n",
            " 3   door    1000 non-null   int64 \n",
            " 4   window  1000 non-null   int64 \n",
            "dtypes: int64(3), object(2)\n",
            "memory usage: 39.2+ KB\n"
          ]
        }
      ]
    },
    {
      "cell_type": "code",
      "source": [
        "data.head()"
      ],
      "metadata": {
        "colab": {
          "base_uri": "https://localhost:8080/",
          "height": 206
        },
        "id": "2UU7mmp5R7Ex",
        "outputId": "a0b91f22-5fd4-4730-fdbb-90034261bf7f"
      },
      "execution_count": 24,
      "outputs": [
        {
          "output_type": "execute_result",
          "data": {
            "text/plain": [
              "                  time                 co2  people  door  window\n",
              "0  2024-01-01 00:00:00   395,5407183284845       0     0       0\n",
              "1  2024-01-01 01:00:00   398,2897719090259       0     0       0\n",
              "2  2024-01-01 02:00:00   413,1414533333378       1     0       0\n",
              "3  2024-01-01 03:00:00  396,50427905451346       0     0       0\n",
              "4  2024-01-01 04:00:00   398,1365196427504       0     0       0"
            ],
            "text/html": [
              "\n",
              "  <div id=\"df-908cb2a8-ff30-493e-939b-4575199bf956\" class=\"colab-df-container\">\n",
              "    <div>\n",
              "<style scoped>\n",
              "    .dataframe tbody tr th:only-of-type {\n",
              "        vertical-align: middle;\n",
              "    }\n",
              "\n",
              "    .dataframe tbody tr th {\n",
              "        vertical-align: top;\n",
              "    }\n",
              "\n",
              "    .dataframe thead th {\n",
              "        text-align: right;\n",
              "    }\n",
              "</style>\n",
              "<table border=\"1\" class=\"dataframe\">\n",
              "  <thead>\n",
              "    <tr style=\"text-align: right;\">\n",
              "      <th></th>\n",
              "      <th>time</th>\n",
              "      <th>co2</th>\n",
              "      <th>people</th>\n",
              "      <th>door</th>\n",
              "      <th>window</th>\n",
              "    </tr>\n",
              "  </thead>\n",
              "  <tbody>\n",
              "    <tr>\n",
              "      <th>0</th>\n",
              "      <td>2024-01-01 00:00:00</td>\n",
              "      <td>395,5407183284845</td>\n",
              "      <td>0</td>\n",
              "      <td>0</td>\n",
              "      <td>0</td>\n",
              "    </tr>\n",
              "    <tr>\n",
              "      <th>1</th>\n",
              "      <td>2024-01-01 01:00:00</td>\n",
              "      <td>398,2897719090259</td>\n",
              "      <td>0</td>\n",
              "      <td>0</td>\n",
              "      <td>0</td>\n",
              "    </tr>\n",
              "    <tr>\n",
              "      <th>2</th>\n",
              "      <td>2024-01-01 02:00:00</td>\n",
              "      <td>413,1414533333378</td>\n",
              "      <td>1</td>\n",
              "      <td>0</td>\n",
              "      <td>0</td>\n",
              "    </tr>\n",
              "    <tr>\n",
              "      <th>3</th>\n",
              "      <td>2024-01-01 03:00:00</td>\n",
              "      <td>396,50427905451346</td>\n",
              "      <td>0</td>\n",
              "      <td>0</td>\n",
              "      <td>0</td>\n",
              "    </tr>\n",
              "    <tr>\n",
              "      <th>4</th>\n",
              "      <td>2024-01-01 04:00:00</td>\n",
              "      <td>398,1365196427504</td>\n",
              "      <td>0</td>\n",
              "      <td>0</td>\n",
              "      <td>0</td>\n",
              "    </tr>\n",
              "  </tbody>\n",
              "</table>\n",
              "</div>\n",
              "    <div class=\"colab-df-buttons\">\n",
              "\n",
              "  <div class=\"colab-df-container\">\n",
              "    <button class=\"colab-df-convert\" onclick=\"convertToInteractive('df-908cb2a8-ff30-493e-939b-4575199bf956')\"\n",
              "            title=\"Convert this dataframe to an interactive table.\"\n",
              "            style=\"display:none;\">\n",
              "\n",
              "  <svg xmlns=\"http://www.w3.org/2000/svg\" height=\"24px\" viewBox=\"0 -960 960 960\">\n",
              "    <path d=\"M120-120v-720h720v720H120Zm60-500h600v-160H180v160Zm220 220h160v-160H400v160Zm0 220h160v-160H400v160ZM180-400h160v-160H180v160Zm440 0h160v-160H620v160ZM180-180h160v-160H180v160Zm440 0h160v-160H620v160Z\"/>\n",
              "  </svg>\n",
              "    </button>\n",
              "\n",
              "  <style>\n",
              "    .colab-df-container {\n",
              "      display:flex;\n",
              "      gap: 12px;\n",
              "    }\n",
              "\n",
              "    .colab-df-convert {\n",
              "      background-color: #E8F0FE;\n",
              "      border: none;\n",
              "      border-radius: 50%;\n",
              "      cursor: pointer;\n",
              "      display: none;\n",
              "      fill: #1967D2;\n",
              "      height: 32px;\n",
              "      padding: 0 0 0 0;\n",
              "      width: 32px;\n",
              "    }\n",
              "\n",
              "    .colab-df-convert:hover {\n",
              "      background-color: #E2EBFA;\n",
              "      box-shadow: 0px 1px 2px rgba(60, 64, 67, 0.3), 0px 1px 3px 1px rgba(60, 64, 67, 0.15);\n",
              "      fill: #174EA6;\n",
              "    }\n",
              "\n",
              "    .colab-df-buttons div {\n",
              "      margin-bottom: 4px;\n",
              "    }\n",
              "\n",
              "    [theme=dark] .colab-df-convert {\n",
              "      background-color: #3B4455;\n",
              "      fill: #D2E3FC;\n",
              "    }\n",
              "\n",
              "    [theme=dark] .colab-df-convert:hover {\n",
              "      background-color: #434B5C;\n",
              "      box-shadow: 0px 1px 3px 1px rgba(0, 0, 0, 0.15);\n",
              "      filter: drop-shadow(0px 1px 2px rgba(0, 0, 0, 0.3));\n",
              "      fill: #FFFFFF;\n",
              "    }\n",
              "  </style>\n",
              "\n",
              "    <script>\n",
              "      const buttonEl =\n",
              "        document.querySelector('#df-908cb2a8-ff30-493e-939b-4575199bf956 button.colab-df-convert');\n",
              "      buttonEl.style.display =\n",
              "        google.colab.kernel.accessAllowed ? 'block' : 'none';\n",
              "\n",
              "      async function convertToInteractive(key) {\n",
              "        const element = document.querySelector('#df-908cb2a8-ff30-493e-939b-4575199bf956');\n",
              "        const dataTable =\n",
              "          await google.colab.kernel.invokeFunction('convertToInteractive',\n",
              "                                                    [key], {});\n",
              "        if (!dataTable) return;\n",
              "\n",
              "        const docLinkHtml = 'Like what you see? Visit the ' +\n",
              "          '<a target=\"_blank\" href=https://colab.research.google.com/notebooks/data_table.ipynb>data table notebook</a>'\n",
              "          + ' to learn more about interactive tables.';\n",
              "        element.innerHTML = '';\n",
              "        dataTable['output_type'] = 'display_data';\n",
              "        await google.colab.output.renderOutput(dataTable, element);\n",
              "        const docLink = document.createElement('div');\n",
              "        docLink.innerHTML = docLinkHtml;\n",
              "        element.appendChild(docLink);\n",
              "      }\n",
              "    </script>\n",
              "  </div>\n",
              "\n",
              "\n",
              "    <div id=\"df-fc5af63e-1067-46e5-8017-b67afc3a408f\">\n",
              "      <button class=\"colab-df-quickchart\" onclick=\"quickchart('df-fc5af63e-1067-46e5-8017-b67afc3a408f')\"\n",
              "                title=\"Suggest charts\"\n",
              "                style=\"display:none;\">\n",
              "\n",
              "<svg xmlns=\"http://www.w3.org/2000/svg\" height=\"24px\"viewBox=\"0 0 24 24\"\n",
              "     width=\"24px\">\n",
              "    <g>\n",
              "        <path d=\"M19 3H5c-1.1 0-2 .9-2 2v14c0 1.1.9 2 2 2h14c1.1 0 2-.9 2-2V5c0-1.1-.9-2-2-2zM9 17H7v-7h2v7zm4 0h-2V7h2v10zm4 0h-2v-4h2v4z\"/>\n",
              "    </g>\n",
              "</svg>\n",
              "      </button>\n",
              "\n",
              "<style>\n",
              "  .colab-df-quickchart {\n",
              "      --bg-color: #E8F0FE;\n",
              "      --fill-color: #1967D2;\n",
              "      --hover-bg-color: #E2EBFA;\n",
              "      --hover-fill-color: #174EA6;\n",
              "      --disabled-fill-color: #AAA;\n",
              "      --disabled-bg-color: #DDD;\n",
              "  }\n",
              "\n",
              "  [theme=dark] .colab-df-quickchart {\n",
              "      --bg-color: #3B4455;\n",
              "      --fill-color: #D2E3FC;\n",
              "      --hover-bg-color: #434B5C;\n",
              "      --hover-fill-color: #FFFFFF;\n",
              "      --disabled-bg-color: #3B4455;\n",
              "      --disabled-fill-color: #666;\n",
              "  }\n",
              "\n",
              "  .colab-df-quickchart {\n",
              "    background-color: var(--bg-color);\n",
              "    border: none;\n",
              "    border-radius: 50%;\n",
              "    cursor: pointer;\n",
              "    display: none;\n",
              "    fill: var(--fill-color);\n",
              "    height: 32px;\n",
              "    padding: 0;\n",
              "    width: 32px;\n",
              "  }\n",
              "\n",
              "  .colab-df-quickchart:hover {\n",
              "    background-color: var(--hover-bg-color);\n",
              "    box-shadow: 0 1px 2px rgba(60, 64, 67, 0.3), 0 1px 3px 1px rgba(60, 64, 67, 0.15);\n",
              "    fill: var(--button-hover-fill-color);\n",
              "  }\n",
              "\n",
              "  .colab-df-quickchart-complete:disabled,\n",
              "  .colab-df-quickchart-complete:disabled:hover {\n",
              "    background-color: var(--disabled-bg-color);\n",
              "    fill: var(--disabled-fill-color);\n",
              "    box-shadow: none;\n",
              "  }\n",
              "\n",
              "  .colab-df-spinner {\n",
              "    border: 2px solid var(--fill-color);\n",
              "    border-color: transparent;\n",
              "    border-bottom-color: var(--fill-color);\n",
              "    animation:\n",
              "      spin 1s steps(1) infinite;\n",
              "  }\n",
              "\n",
              "  @keyframes spin {\n",
              "    0% {\n",
              "      border-color: transparent;\n",
              "      border-bottom-color: var(--fill-color);\n",
              "      border-left-color: var(--fill-color);\n",
              "    }\n",
              "    20% {\n",
              "      border-color: transparent;\n",
              "      border-left-color: var(--fill-color);\n",
              "      border-top-color: var(--fill-color);\n",
              "    }\n",
              "    30% {\n",
              "      border-color: transparent;\n",
              "      border-left-color: var(--fill-color);\n",
              "      border-top-color: var(--fill-color);\n",
              "      border-right-color: var(--fill-color);\n",
              "    }\n",
              "    40% {\n",
              "      border-color: transparent;\n",
              "      border-right-color: var(--fill-color);\n",
              "      border-top-color: var(--fill-color);\n",
              "    }\n",
              "    60% {\n",
              "      border-color: transparent;\n",
              "      border-right-color: var(--fill-color);\n",
              "    }\n",
              "    80% {\n",
              "      border-color: transparent;\n",
              "      border-right-color: var(--fill-color);\n",
              "      border-bottom-color: var(--fill-color);\n",
              "    }\n",
              "    90% {\n",
              "      border-color: transparent;\n",
              "      border-bottom-color: var(--fill-color);\n",
              "    }\n",
              "  }\n",
              "</style>\n",
              "\n",
              "      <script>\n",
              "        async function quickchart(key) {\n",
              "          const quickchartButtonEl =\n",
              "            document.querySelector('#' + key + ' button');\n",
              "          quickchartButtonEl.disabled = true;  // To prevent multiple clicks.\n",
              "          quickchartButtonEl.classList.add('colab-df-spinner');\n",
              "          try {\n",
              "            const charts = await google.colab.kernel.invokeFunction(\n",
              "                'suggestCharts', [key], {});\n",
              "          } catch (error) {\n",
              "            console.error('Error during call to suggestCharts:', error);\n",
              "          }\n",
              "          quickchartButtonEl.classList.remove('colab-df-spinner');\n",
              "          quickchartButtonEl.classList.add('colab-df-quickchart-complete');\n",
              "        }\n",
              "        (() => {\n",
              "          let quickchartButtonEl =\n",
              "            document.querySelector('#df-fc5af63e-1067-46e5-8017-b67afc3a408f button');\n",
              "          quickchartButtonEl.style.display =\n",
              "            google.colab.kernel.accessAllowed ? 'block' : 'none';\n",
              "        })();\n",
              "      </script>\n",
              "    </div>\n",
              "\n",
              "    </div>\n",
              "  </div>\n"
            ],
            "application/vnd.google.colaboratory.intrinsic+json": {
              "type": "dataframe",
              "variable_name": "data",
              "summary": "{\n  \"name\": \"data\",\n  \"rows\": 1000,\n  \"fields\": [\n    {\n      \"column\": \"time\",\n      \"properties\": {\n        \"dtype\": \"object\",\n        \"num_unique_values\": 1000,\n        \"samples\": [\n          \"2024-01-22 17:00:00\",\n          \"2024-01-31 17:00:00\",\n          \"2024-01-31 20:00:00\"\n        ],\n        \"semantic_type\": \"\",\n        \"description\": \"\"\n      }\n    },\n    {\n      \"column\": \"co2\",\n      \"properties\": {\n        \"dtype\": \"string\",\n        \"num_unique_values\": 1000,\n        \"samples\": [\n          \"400,142930091526\",\n          \"399,03929269068243\",\n          \"398,75289241457364\"\n        ],\n        \"semantic_type\": \"\",\n        \"description\": \"\"\n      }\n    },\n    {\n      \"column\": \"people\",\n      \"properties\": {\n        \"dtype\": \"number\",\n        \"std\": 0,\n        \"min\": 0,\n        \"max\": 5,\n        \"num_unique_values\": 6,\n        \"samples\": [\n          0,\n          1,\n          5\n        ],\n        \"semantic_type\": \"\",\n        \"description\": \"\"\n      }\n    },\n    {\n      \"column\": \"door\",\n      \"properties\": {\n        \"dtype\": \"number\",\n        \"std\": 0,\n        \"min\": 0,\n        \"max\": 1,\n        \"num_unique_values\": 2,\n        \"samples\": [\n          1,\n          0\n        ],\n        \"semantic_type\": \"\",\n        \"description\": \"\"\n      }\n    },\n    {\n      \"column\": \"window\",\n      \"properties\": {\n        \"dtype\": \"number\",\n        \"std\": 0,\n        \"min\": 0,\n        \"max\": 1,\n        \"num_unique_values\": 2,\n        \"samples\": [\n          1,\n          0\n        ],\n        \"semantic_type\": \"\",\n        \"description\": \"\"\n      }\n    }\n  ]\n}"
            }
          },
          "metadata": {},
          "execution_count": 24
        }
      ]
    },
    {
      "cell_type": "markdown",
      "source": [
        "## Elaboration data"
      ],
      "metadata": {
        "id": "87TG7lg_RfUZ"
      }
    },
    {
      "cell_type": "markdown",
      "source": [
        "- è stata rimossa la colonna 'time' in quanto non necessaria per il modello.\n",
        "- è stata convertita òa colonna 'co2' in un tipo numerico (float) sostituendo le virgole con i punti."
      ],
      "metadata": {
        "id": "vrRQPwByRrXk"
      }
    },
    {
      "cell_type": "code",
      "metadata": {
        "colab": {
          "base_uri": "https://localhost:8080/"
        },
        "id": "16bb25f3",
        "outputId": "d49fc9c5-38c4-4fc4-a3c6-4477d5547da7"
      },
      "source": [
        "# Create a new dataframe by dropping the 'time' column\n",
        "new_data = data.drop('time', axis=1)\n",
        "\n",
        "# Convert 'co2' column to numeric, replacing commas with periods\n",
        "new_data['co2'] = new_data['co2'].str.replace(',', '.', regex=False).astype(float)\n",
        "\n",
        "# Display the info of the new dataframe to confirm data types\n",
        "new_data.info()"
      ],
      "execution_count": 4,
      "outputs": [
        {
          "output_type": "stream",
          "name": "stdout",
          "text": [
            "<class 'pandas.core.frame.DataFrame'>\n",
            "RangeIndex: 1000 entries, 0 to 999\n",
            "Data columns (total 4 columns):\n",
            " #   Column  Non-Null Count  Dtype  \n",
            "---  ------  --------------  -----  \n",
            " 0   co2     1000 non-null   float64\n",
            " 1   people  1000 non-null   int64  \n",
            " 2   door    1000 non-null   int64  \n",
            " 3   window  1000 non-null   int64  \n",
            "dtypes: float64(1), int64(3)\n",
            "memory usage: 31.4 KB\n"
          ]
        }
      ]
    },
    {
      "cell_type": "markdown",
      "source": [
        "## Data split"
      ],
      "metadata": {
        "id": "0nCBuedDSFrg"
      }
    },
    {
      "cell_type": "markdown",
      "source": [
        "è stato suddiviso il dataset in set di training e test (X_train, X_test, y_train, y_test) utilizzando train_test_split ( libreria sklean )"
      ],
      "metadata": {
        "id": "Rh_oKYYfSIOv"
      }
    },
    {
      "cell_type": "code",
      "metadata": {
        "id": "39d829d0"
      },
      "source": [
        "from sklearn.model_selection import train_test_split"
      ],
      "execution_count": 5,
      "outputs": []
    },
    {
      "cell_type": "code",
      "metadata": {
        "colab": {
          "base_uri": "https://localhost:8080/"
        },
        "id": "02435d79",
        "outputId": "f6923b63-f430-4ce5-86bc-c20e4e8ed1b5"
      },
      "source": [
        "# Define the features (X) and the target (y)\n",
        "# Assuming 'co2' is the target variable\n",
        "X = new_data.drop('co2', axis=1)\n",
        "y = new_data['co2']\n",
        "\n",
        "# Set a random seed for reproducibility\n",
        "seed = 42\n",
        "\n",
        "# Split the dataset into training and testing sets\n",
        "X_train, X_test, y_train, y_test = train_test_split(X, y, test_size=0.3, random_state=seed)\n",
        "\n",
        "# Display the shapes of the resulting sets\n",
        "print(\"Shape of X_train:\", X_train.shape)\n",
        "print(\"Shape of X_test:\", X_test.shape)\n",
        "print(\"Shape of y_train:\", y_train.shape)\n",
        "print(\"Shape of y_test:\", y_test.shape)"
      ],
      "execution_count": 6,
      "outputs": [
        {
          "output_type": "stream",
          "name": "stdout",
          "text": [
            "Shape of X_train: (700, 3)\n",
            "Shape of X_test: (300, 3)\n",
            "Shape of y_train: (700,)\n",
            "Shape of y_test: (300,)\n"
          ]
        }
      ]
    },
    {
      "cell_type": "markdown",
      "source": [
        "# Random Forest"
      ],
      "metadata": {
        "id": "e-K42YGrSb6H"
      }
    },
    {
      "cell_type": "markdown",
      "source": [
        "- è stato inizializzato e addestrato un modello RandomForestRegressor, sono state effettuate le previsioni sul set di test;\n",
        "- sono state calcolate le metriche di valutazione (MSE, R-squared, RMSE).\n",
        "- sono state rappresentate le features del modello per ordine di importanza. Forest."
      ],
      "metadata": {
        "id": "L7zfRteHSvFA"
      }
    },
    {
      "cell_type": "code",
      "metadata": {
        "colab": {
          "base_uri": "https://localhost:8080/"
        },
        "id": "a115957b",
        "outputId": "31c9b158-a475-4210-d8f1-764a8ee6d17a"
      },
      "source": [
        "from sklearn.ensemble import RandomForestRegressor\n",
        "\n",
        "# Initialize the Random Forest Regressor model\n",
        "# Using the same random state as before\n",
        "model = RandomForestRegressor(criterion=\"squared_error\", n_estimators=300, random_state=seed)\n",
        "\n",
        "# Fit the model to the training data\n",
        "model.fit(X_train, y_train)\n",
        "\n",
        "print(\"Modello Random Forest costruito e addestrato con successo.\")"
      ],
      "execution_count": 7,
      "outputs": [
        {
          "output_type": "stream",
          "name": "stdout",
          "text": [
            "Modello Random Forest costruito e addestrato con successo.\n"
          ]
        }
      ]
    },
    {
      "cell_type": "code",
      "metadata": {
        "colab": {
          "base_uri": "https://localhost:8080/"
        },
        "id": "06d70947",
        "outputId": "c84e26aa-c742-4e83-b98e-d4dfc56fe7fb"
      },
      "source": [
        "from sklearn.metrics import mean_squared_error, r2_score\n",
        "\n",
        "# Make predictions on the test set\n",
        "y_pred = model.predict(X_test)\n",
        "\n",
        "# Calculate Mean Squared Error (MSE)\n",
        "mse = mean_squared_error(y_test, y_pred)\n",
        "\n",
        "# Calculate R-squared\n",
        "r2 = r2_score(y_test, y_pred)\n",
        "\n",
        "# Display the results\n",
        "print(f\"Mean Squared Error (MSE): {mse}\")\n",
        "print(f\"R-squared: {r2}\")"
      ],
      "execution_count": 8,
      "outputs": [
        {
          "output_type": "stream",
          "name": "stdout",
          "text": [
            "Mean Squared Error (MSE): 15.336342665211196\n",
            "R-squared: 0.8230660060274773\n"
          ]
        }
      ]
    },
    {
      "cell_type": "code",
      "metadata": {
        "colab": {
          "base_uri": "https://localhost:8080/"
        },
        "id": "bf2e80ab",
        "outputId": "6de7eeaf-c2c0-455a-98ce-15797aa735d1"
      },
      "source": [
        "\n",
        "# Calculate Root Mean Squared Error (RMSE)\n",
        "rmse = np.sqrt(mse)\n",
        "\n",
        "# Display the RMSE\n",
        "print(f\"Root Mean Squared Error (RMSE): {rmse}\")"
      ],
      "execution_count": 9,
      "outputs": [
        {
          "output_type": "stream",
          "name": "stdout",
          "text": [
            "Root Mean Squared Error (RMSE): 3.9161642796505864\n"
          ]
        }
      ]
    },
    {
      "cell_type": "code",
      "metadata": {
        "colab": {
          "base_uri": "https://localhost:8080/"
        },
        "id": "7f264e10",
        "outputId": "d08023fb-a4e4-48d3-928a-bc9765626ba5"
      },
      "source": [
        "# Get the feature importances from the trained model\n",
        "feature_importances = model.feature_importances_\n",
        "\n",
        "# Get the names of the features\n",
        "feature_names = X.columns\n",
        "\n",
        "# Create a pandas Series for better visualization\n",
        "importance_series = pd.Series(feature_importances, index=feature_names)\n",
        "\n",
        "# Sort the importances in descending order\n",
        "sorted_importance_series = importance_series.sort_values(ascending=False)\n",
        "\n",
        "# Display the sorted feature importances\n",
        "print(\"Feature Importances:\")\n",
        "print(sorted_importance_series)"
      ],
      "execution_count": 27,
      "outputs": [
        {
          "output_type": "stream",
          "name": "stdout",
          "text": [
            "Feature Importances:\n",
            "people    0.992907\n",
            "window    0.005477\n",
            "door      0.001616\n",
            "dtype: float64\n"
          ]
        }
      ]
    },
    {
      "cell_type": "markdown",
      "source": [
        "#  modello XGBoost"
      ],
      "metadata": {
        "id": "EFpmb7uE9M20"
      }
    },
    {
      "cell_type": "markdown",
      "source": [
        "- Dopo aver installato la libreria xgboost e inizializzato e addestrato il modello xgb_model, sono state effettuate le previsioni sul test set con il modello addestrato.\n",
        "- Calcolate le metriche di valutazione (MSE, R-squared, RMSE) per xgb_model.\n",
        "- Calcolata la feature importance per il modello xgb_model,"
      ],
      "metadata": {
        "id": "SaxwgJSfTm5_"
      }
    },
    {
      "cell_type": "code",
      "metadata": {
        "colab": {
          "base_uri": "https://localhost:8080/"
        },
        "id": "57bf4f13",
        "outputId": "0217784c-1043-4e25-d654-84a6d4f82c3a"
      },
      "source": [
        "!pip install xgboost"
      ],
      "execution_count": 11,
      "outputs": [
        {
          "output_type": "stream",
          "name": "stdout",
          "text": [
            "Requirement already satisfied: xgboost in /usr/local/lib/python3.12/dist-packages (3.0.5)\n",
            "Requirement already satisfied: numpy in /usr/local/lib/python3.12/dist-packages (from xgboost) (2.0.2)\n",
            "Requirement already satisfied: nvidia-nccl-cu12 in /usr/local/lib/python3.12/dist-packages (from xgboost) (2.27.3)\n",
            "Requirement already satisfied: scipy in /usr/local/lib/python3.12/dist-packages (from xgboost) (1.16.2)\n"
          ]
        }
      ]
    },
    {
      "cell_type": "code",
      "metadata": {
        "colab": {
          "base_uri": "https://localhost:8080/"
        },
        "id": "c9147fdf",
        "outputId": "788cc990-3e04-49d6-a166-19f2e7aa2036"
      },
      "source": [
        "import xgboost as xgb\n",
        "\n",
        "# Initialize the XGBoost Regressor model\n",
        "# You can adjust the hyperparameters here\n",
        "xgb_model = xgb.XGBRegressor(objective='reg:squarederror', n_estimators=300, learning_rate=0.1, random_state=seed)\n",
        "\n",
        "# Fit the model to the training data\n",
        "xgb_model.fit(X_train, y_train)\n",
        "\n",
        "print(\"Modello XGBoost costruito e addestrato con successo.\")"
      ],
      "execution_count": 12,
      "outputs": [
        {
          "output_type": "stream",
          "name": "stdout",
          "text": [
            "Modello XGBoost costruito e addestrato con successo.\n"
          ]
        }
      ]
    },
    {
      "cell_type": "code",
      "metadata": {
        "colab": {
          "base_uri": "https://localhost:8080/"
        },
        "id": "aca3d178",
        "outputId": "e2503cb3-806a-4ddc-b728-4cf488db3568"
      },
      "source": [
        "#from sklearn.metrics import mean_squared_error, r2_score\n",
        "#import numpy as np\n",
        "\n",
        "# Make predictions on the test set using the XGBoost model\n",
        "y_pred_xgb = xgb_model.predict(X_test)\n",
        "\n",
        "# Calculate Mean Squared Error (MSE) for XGBoost\n",
        "mse_xgb = mean_squared_error(y_test, y_pred_xgb)\n",
        "\n",
        "# Calculate R-squared for XGBoost\n",
        "r2_xgb = r2_score(y_test, y_pred_xgb)\n",
        "\n",
        "# Calculate Root Mean Squared Error (RMSE) for XGBoost\n",
        "rmse_xgb = np.sqrt(mse_xgb)\n",
        "\n",
        "# Display the results for XGBoost\n",
        "print(f\"XGBoost Mean Squared Error (MSE): {mse_xgb}\")\n",
        "print(f\"XGBoost R-squared: {r2_xgb}\")\n",
        "print(f\"XGBoost Root Mean Squared Error (RMSE): {rmse_xgb}\")"
      ],
      "execution_count": 13,
      "outputs": [
        {
          "output_type": "stream",
          "name": "stdout",
          "text": [
            "XGBoost Mean Squared Error (MSE): 15.311886974879458\n",
            "XGBoost R-squared: 0.8233481491081457\n",
            "XGBoost Root Mean Squared Error (RMSE): 3.9130406303639957\n"
          ]
        }
      ]
    },
    {
      "cell_type": "code",
      "metadata": {
        "colab": {
          "base_uri": "https://localhost:8080/"
        },
        "id": "4ba481fc",
        "outputId": "0fb98f97-9151-4475-e7a9-e1e6b0b68c75"
      },
      "source": [
        "# Get the feature importances from the trained XGBoost model\n",
        "xgb_feature_importances = xgb_model.feature_importances_\n",
        "\n",
        "# Get the names of the features (using X.columns from the training data)\n",
        "feature_names = X.columns\n",
        "\n",
        "# Create a pandas Series for better visualization\n",
        "xgb_importance_series = pd.Series(xgb_feature_importances, index=feature_names)\n",
        "\n",
        "# Sort the importances in descending order\n",
        "sorted_xgb_importance_series = xgb_importance_series.sort_values(ascending=False)\n",
        "\n",
        "# Display the sorted feature importances for XGBoost\n",
        "print(\"XGBoost Feature Importances:\")\n",
        "print(sorted_xgb_importance_series)"
      ],
      "execution_count": 14,
      "outputs": [
        {
          "output_type": "stream",
          "name": "stdout",
          "text": [
            "XGBoost Feature Importances:\n",
            "people    0.988805\n",
            "window    0.010013\n",
            "door      0.001182\n",
            "dtype: float32\n"
          ]
        }
      ]
    },
    {
      "cell_type": "markdown",
      "source": [
        "# Predict"
      ],
      "metadata": {
        "id": "5QTwNgdhUgkr"
      }
    },
    {
      "cell_type": "markdown",
      "source": [
        "In modo esemplificativo sono stati utilizzati entrambi i modelli addestrati (Random Forest e XGBoost) per fare una previsione del valore di CO2 per un nuovo punto dati specifico."
      ],
      "metadata": {
        "id": "wxdVvS7HUi3D"
      }
    },
    {
      "cell_type": "code",
      "metadata": {
        "colab": {
          "base_uri": "https://localhost:8080/"
        },
        "id": "d40c9c27",
        "outputId": "4b02aa79-2a99-4546-be8c-f3da837fed1f"
      },
      "source": [
        "# Define the specific scenario\n",
        "people_value = 3\n",
        "window_value = 1\n",
        "door_value = 1\n",
        "\n",
        "# Create a DataFrame for the new data point, ensuring column names match the training data\n",
        "new_data_point = pd.DataFrame({\n",
        "    'people': [people_value],\n",
        "    'door': [door_value],\n",
        "    'window': [window_value]\n",
        "})\n",
        "\n",
        "# Make prediction using the Random Forest model\n",
        "predicted_co2_rf = model.predict(new_data_point)\n",
        "\n",
        "# Make prediction using the XGBoost model\n",
        "predicted_co2_xgb = xgb_model.predict(new_data_point)\n",
        "\n",
        "# Display the predictions\n",
        "print(f\"Predicted CO2 (Random Forest): {predicted_co2_rf[0]:.3f}\")\n",
        "print(f\"Predicted CO2 (XGBoost): {predicted_co2_xgb[0]:.3f}\")"
      ],
      "execution_count": 15,
      "outputs": [
        {
          "output_type": "stream",
          "name": "stdout",
          "text": [
            "Predicted CO2 (Random Forest): 433.042\n",
            "Predicted CO2 (XGBoost): 430.315\n"
          ]
        }
      ]
    },
    {
      "cell_type": "markdown",
      "source": [
        "# SHAP analysis"
      ],
      "metadata": {
        "id": "8VBjl2nXU14h"
      }
    },
    {
      "cell_type": "code",
      "metadata": {
        "colab": {
          "base_uri": "https://localhost:8080/"
        },
        "id": "0bbbc78d",
        "outputId": "fca73e57-466b-499a-f56d-15f4005726be"
      },
      "source": [
        "!pip install shap"
      ],
      "execution_count": 16,
      "outputs": [
        {
          "output_type": "stream",
          "name": "stdout",
          "text": [
            "Requirement already satisfied: shap in /usr/local/lib/python3.12/dist-packages (0.49.1)\n",
            "Requirement already satisfied: numpy in /usr/local/lib/python3.12/dist-packages (from shap) (2.0.2)\n",
            "Requirement already satisfied: scipy in /usr/local/lib/python3.12/dist-packages (from shap) (1.16.2)\n",
            "Requirement already satisfied: scikit-learn in /usr/local/lib/python3.12/dist-packages (from shap) (1.6.1)\n",
            "Requirement already satisfied: pandas in /usr/local/lib/python3.12/dist-packages (from shap) (2.2.2)\n",
            "Requirement already satisfied: tqdm>=4.27.0 in /usr/local/lib/python3.12/dist-packages (from shap) (4.67.1)\n",
            "Requirement already satisfied: packaging>20.9 in /usr/local/lib/python3.12/dist-packages (from shap) (25.0)\n",
            "Requirement already satisfied: slicer==0.0.8 in /usr/local/lib/python3.12/dist-packages (from shap) (0.0.8)\n",
            "Requirement already satisfied: numba>=0.54 in /usr/local/lib/python3.12/dist-packages (from shap) (0.60.0)\n",
            "Requirement already satisfied: cloudpickle in /usr/local/lib/python3.12/dist-packages (from shap) (3.1.1)\n",
            "Requirement already satisfied: typing-extensions in /usr/local/lib/python3.12/dist-packages (from shap) (4.15.0)\n",
            "Requirement already satisfied: llvmlite<0.44,>=0.43.0dev0 in /usr/local/lib/python3.12/dist-packages (from numba>=0.54->shap) (0.43.0)\n",
            "Requirement already satisfied: python-dateutil>=2.8.2 in /usr/local/lib/python3.12/dist-packages (from pandas->shap) (2.9.0.post0)\n",
            "Requirement already satisfied: pytz>=2020.1 in /usr/local/lib/python3.12/dist-packages (from pandas->shap) (2025.2)\n",
            "Requirement already satisfied: tzdata>=2022.7 in /usr/local/lib/python3.12/dist-packages (from pandas->shap) (2025.2)\n",
            "Requirement already satisfied: joblib>=1.2.0 in /usr/local/lib/python3.12/dist-packages (from scikit-learn->shap) (1.5.2)\n",
            "Requirement already satisfied: threadpoolctl>=3.1.0 in /usr/local/lib/python3.12/dist-packages (from scikit-learn->shap) (3.6.0)\n",
            "Requirement already satisfied: six>=1.5 in /usr/local/lib/python3.12/dist-packages (from python-dateutil>=2.8.2->pandas->shap) (1.17.0)\n"
          ]
        }
      ]
    },
    {
      "cell_type": "markdown",
      "source": [
        "- installato e importato la libreria shap.\n",
        "- creato uno SHAP Explainer (TreeExplainer) per il modello XGBoost.\n",
        "- calcolato i valori SHAP per il set di test.\n",
        "- generato e visualizzato i grafici SHAP (summary plot e dependence plot) per"
      ],
      "metadata": {
        "id": "0ox_DuO-VFU6"
      }
    },
    {
      "cell_type": "code",
      "metadata": {
        "id": "9e3b81da"
      },
      "source": [
        "import shap"
      ],
      "execution_count": 17,
      "outputs": []
    },
    {
      "cell_type": "code",
      "metadata": {
        "id": "30632717"
      },
      "source": [
        "# Initialize the SHAP TreeExplainer\n",
        "explainer = shap.TreeExplainer(xgb_model)"
      ],
      "execution_count": 18,
      "outputs": []
    },
    {
      "cell_type": "code",
      "metadata": {
        "id": "b1c24103"
      },
      "source": [
        "# Calculate SHAP values for the test set\n",
        "shap_values = explainer.shap_values(X_test)"
      ],
      "execution_count": 19,
      "outputs": []
    },
    {
      "cell_type": "markdown",
      "source": [
        "Se si guarda ai diagrammi si può osservare come la feature 'people' ha l'impatto maggiore sulle previsioni del modello xgb_model, confermando quanto già visto con le feature importances standard. Le feature 'window' e 'door' hanno un impatto molto minore.\n",
        "\n",
        "Guardando il summary_plot possiamo osservare come per la feature people, i punti rossi alti valori di people ( valori SHAP positivi ) indica che un maggior numero di persone contribuisce maggiormente all'aumento di co2 nella stanza. I punti in blu ( valori SHAP negativi ) si trovano a sinistra del grafico, indica che un minor numero di persone tende a diminuire il valore previsto per la co2. Questo ha perfettamente senso confermando che più persone ci sono nell'ambiente, maggiore sarà il livello di co2 registrato.\n",
        "\n",
        "Nel secondo grafico ( SHAP dependence plot per people )  viene mostrata la relazione tra il valore della feature ('people' sull'asse X) e il suo impatto SHAP ('SHAP value for people' sull'asse Y).\n",
        "\n",
        "Ogni punto sul grafico rappresenta un'istanza nel set di test.\n",
        "L'asse X mostra il valore effettivo della feature 'people' per quell'istanza.\n",
        "L'asse Y mostra il valore SHAP per la feature 'people' per quell'istanza.\n",
        "\n",
        "Dal grafico di dipendenza per 'people', possiamo vedere una relazione quasi lineare e positiva: all'aumentare del numero di persone (sull'asse X), il valore SHAP per 'people' tende ad aumentare (sull'asse Y). Questo conferma che un maggior numero di persone ha un impatto positivo (aumenta) sulla previsione del livello di CO2.\n",
        "\n",
        "l'analisi SHAP conferma che il numero di persone è il driver principale nella previsione dei livelli di CO2 da parte del modello, e mostra chiaramente la relazione positiva tra il numero di persone e il livello di CO2 previsto. Le altre feature ('window' e 'door') hanno un impatto molto minore e meno consistente sulle previsioni."
      ],
      "metadata": {
        "id": "8ie3zqqRVdHc"
      }
    },
    {
      "cell_type": "code",
      "metadata": {
        "colab": {
          "base_uri": "https://localhost:8080/",
          "height": 735
        },
        "id": "fa56c1c8",
        "outputId": "602295d7-2cbc-4cda-80c0-12fec6c4d61e"
      },
      "source": [
        "# Generate the SHAP summary plot\n",
        "shap.summary_plot(shap_values, X_test)\n",
        "\n",
        "# Get the index of the feature with the highest importance (likely 'people')\n",
        "# Assuming 'people' is the first column based on previous output, confirm with X_test.columns if needed\n",
        "people_feature_index = X_test.columns.get_loc('people')\n",
        "\n",
        "# Generate the SHAP dependence plot for the 'people' feature\n",
        "shap.dependence_plot(people_feature_index, shap_values, X_test, display_features=X_test)"
      ],
      "execution_count": 20,
      "outputs": [
        {
          "output_type": "display_data",
          "data": {
            "text/plain": [
              "<Figure size 800x270 with 2 Axes>"
            ],
            "image/png": "[encoded data removed]"
          },
          "metadata": {}
        },
        {
          "output_type": "display_data",
          "data": {
            "text/plain": [
              "<Figure size 750x500 with 2 Axes>"
            ],
            "image/png": "[encoded data removed]"
          },
          "metadata": {}
        }
      ]
    }
  ]
}